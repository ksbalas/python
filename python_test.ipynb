{
  "nbformat": 4,
  "nbformat_minor": 0,
  "metadata": {
    "colab": {
      "name": "Untitled1.ipynb",
      "provenance": [],
      "collapsed_sections": [],
      "authorship_tag": "ABX9TyO8WikDMDzWvORuMex9Kp8U",
      "include_colab_link": true
    },
    "kernelspec": {
      "name": "python3",
      "display_name": "Python 3"
    }
  },
  "cells": [
    {
      "cell_type": "markdown",
      "metadata": {
        "id": "view-in-github",
        "colab_type": "text"
      },
      "source": [
        "<a href=\"https://colab.research.google.com/github/ksbalas/python/blob/master/python_test.ipynb\" target=\"_parent\"><img src=\"https://colab.research.google.com/assets/colab-badge.svg\" alt=\"Open In Colab\"/></a>"
      ]
    },
    {
      "cell_type": "code",
      "metadata": {
        "colab": {
          "base_uri": "https://localhost:8080/"
        },
        "id": "-S3DWQlb50_w",
        "outputId": "8fa3c3cd-98db-4486-dc77-e206fa5ad652"
      },
      "source": [
        "print(\"hello world\")"
      ],
      "execution_count": 1,
      "outputs": [
        {
          "output_type": "stream",
          "text": [
            "hello world\n"
          ],
          "name": "stdout"
        }
      ]
    },
    {
      "cell_type": "code",
      "metadata": {
        "id": "vGJ6aaO96aTO"
      },
      "source": [
        "from typing import Any\n",
        "class Node:\n",
        "  def __init__(self, data: Any = None, next: Any = None):\n",
        "    self.data = data\n",
        "    self.next = next\n"
      ],
      "execution_count": 9,
      "outputs": []
    },
    {
      "cell_type": "code",
      "metadata": {
        "id": "j57LOm3g6ruM"
      },
      "source": [
        "class LinkedList:\n",
        "  def __init__(self):\n",
        "    self.head = None\n",
        "\n",
        "  def insert(self, data):\n",
        "    newNode = Node(data)\n",
        "    if (self.head):\n",
        "      current = self.head\n",
        "      while (current.next):\n",
        "        current = current.next\n",
        "      current.next = newNode\n",
        "    else:\n",
        "      self.head = newNode\n",
        "  \n",
        "  def printList(self):\n",
        "    current = self.head\n",
        "    while current:\n",
        "      print(current.data)\n",
        "      current = current.next\n",
        "\n"
      ],
      "execution_count": 26,
      "outputs": []
    },
    {
      "cell_type": "code",
      "metadata": {
        "colab": {
          "base_uri": "https://localhost:8080/"
        },
        "id": "97xzmWfp6yzk",
        "outputId": "03647976-6d04-4e47-f33a-087a4cdcf568"
      },
      "source": [
        "linkedList = LinkedList()\n",
        "linkedList.insert(5)\n",
        "linkedList.insert(10)\n",
        "linkedList.printList()\n",
        "linkedList.insert(15)\n",
        "linkedList.printList()"
      ],
      "execution_count": 28,
      "outputs": [
        {
          "output_type": "stream",
          "text": [
            "5\n",
            "10\n",
            "5\n",
            "10\n",
            "15\n"
          ],
          "name": "stdout"
        }
      ]
    }
  ]
}